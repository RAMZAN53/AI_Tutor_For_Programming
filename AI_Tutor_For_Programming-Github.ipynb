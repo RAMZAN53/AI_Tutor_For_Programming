{
 "cells": [
  {
   "cell_type": "code",
   "execution_count": 39,
   "id": "0a013ed6-29e7-45bd-8c38-0de5f4992071",
   "metadata": {},
   "outputs": [],
   "source": [
    "import os\n",
    "import warnings\n",
    "from azure.ai.inference import ChatCompletionsClient\n",
    "from azure.ai.inference.models import SystemMessage, UserMessage\n",
    "from azure.core.credentials import AzureKeyCredential\n",
    "import gradio as gr"
   ]
  },
  {
   "cell_type": "code",
   "execution_count": 40,
   "id": "6793a2e0-9e36-4a9a-bd7c-f53a50ce803a",
   "metadata": {},
   "outputs": [],
   "source": [
    "# Suppress pygame welcome message\n",
    "os.environ['PYGAME_HIDE_SUPPORT_PROMPT'] = \"hide\"\n",
    "warnings.filterwarnings(\"ignore\")"
   ]
  },
  {
   "cell_type": "code",
   "execution_count": 41,
   "id": "fd276553-311a-4836-a894-4821ddcf4b0a",
   "metadata": {},
   "outputs": [],
   "source": [
    "endpoint = \"\"\n",
    "model_name = \"\"\n",
    "token = \"\""
   ]
  },
  {
   "cell_type": "code",
   "execution_count": 42,
   "id": "2789d8d2-73cf-4d35-aef4-b898a80a3af7",
   "metadata": {},
   "outputs": [],
   "source": [
    "# Function to generate response using Azure's Phi-4 model\n",
    "def generate_response(msg):\n",
    "    client = ChatCompletionsClient(\n",
    "        endpoint=endpoint,\n",
    "        credential=AzureKeyCredential(token),\n",
    "    )\n",
    "    response = client.complete(\n",
    "        messages=[UserMessage(msg)],\n",
    "        temperature=1.0,   # Controls the randomness of the output\n",
    "        top_p=1.0,         # Controls the diversity of the response\n",
    "        max_tokens=1000,   # Limit the length of the response\n",
    "        model=model_name   # Model you're using, Phi-4 in this case\n",
    "    )\n",
    "    return response.choices[0].message.content"
   ]
  },
  {
   "cell_type": "code",
   "execution_count": 43,
   "id": "bf37807f-5bf4-4946-8fe1-9a145f3b95bc",
   "metadata": {},
   "outputs": [],
   "source": [
    "def explain_code(code):\n",
    "    \"\"\"Generate an explanation for the provided code.\"\"\"\n",
    "    if not code.strip():\n",
    "        return \"Please enter some code to explain.\"\n",
    "    \n",
    "    prompt = f\"\"\"Explain this Python code in detail:\n",
    "    {code}\n",
    "\n",
    "Explanation:\n",
    "1. Overall purpose:\n",
    "2. Key components:\n",
    "3. Flow of execution:\n",
    "4. Notable features:\"\"\"\n",
    "    \n",
    "    return generate_response(prompt)"
   ]
  },
  {
   "cell_type": "code",
   "execution_count": 50,
   "id": "0af6bb08-6231-4acb-baaa-f0958fbeb238",
   "metadata": {},
   "outputs": [],
   "source": [
    "def create_interface():\n",
    "    with gr.Blocks(title=\"Code Explainer\", theme=\"soft\") as interface:\n",
    "        gr.Markdown(\"# AI Tutor For Programming\")\n",
    "        with gr.Row():\n",
    "            with gr.Column():\n",
    "                code_input = gr.Textbox(\n",
    "                    label=\"Code/Prompt\",\n",
    "                    placeholder=\"Paste your code here...\",\n",
    "                    lines=10,\n",
    "                    elem_id=\"code-input\"\n",
    "                )\n",
    "                with gr.Row():\n",
    "                    submit_btn = gr.Button(\"Submit\", variant=\"primary\")\n",
    "                    clear_btn = gr.Button(\"Clear\")\n",
    "            \n",
    "            with gr.Column():\n",
    "                explanation_output = gr.Textbox(\n",
    "                    label=\"Explanation\",\n",
    "                    lines=15,\n",
    "                    interactive=False,\n",
    "                    elem_id=\"explanation-output\"\n",
    "                )\n",
    "        submit_btn.click(\n",
    "            fn=explain_code,\n",
    "            inputs=code_input,\n",
    "            outputs=explanation_output\n",
    "        )\n",
    "        clear_btn.click(\n",
    "            fn=lambda: (\"\", \"\"),\n",
    "            inputs=None,\n",
    "            outputs=[code_input, explanation_output]\n",
    "        )\n",
    "    return interface"
   ]
  },
  {
   "cell_type": "code",
   "execution_count": 51,
   "id": "6fdcea4e-0d85-4dad-9d8e-4bbe831032fe",
   "metadata": {},
   "outputs": [
    {
     "name": "stdout",
     "output_type": "stream",
     "text": [
      "* Running on local URL:  http://127.0.0.1:7882\n",
      "\n",
      "To create a public link, set `share=True` in `launch()`.\n"
     ]
    },
    {
     "data": {
      "text/html": [
       "<div><iframe src=\"http://127.0.0.1:7882/\" width=\"100%\" height=\"500\" allow=\"autoplay; camera; microphone; clipboard-read; clipboard-write;\" frameborder=\"0\" allowfullscreen></iframe></div>"
      ],
      "text/plain": [
       "<IPython.core.display.HTML object>"
      ]
     },
     "metadata": {},
     "output_type": "display_data"
    }
   ],
   "source": [
    "if __name__ == \"__main__\":\n",
    "    # Create and launch the interface\n",
    "    interface = create_interface()\n",
    "    interface.launch()"
   ]
  },
  {
   "cell_type": "code",
   "execution_count": null,
   "id": "701bc74a-78c0-4aea-9ae4-66dac619adfa",
   "metadata": {},
   "outputs": [],
   "source": []
  }
 ],
 "metadata": {
  "kernelspec": {
   "display_name": "Python 3 (ipykernel)",
   "language": "python",
   "name": "python3"
  },
  "language_info": {
   "codemirror_mode": {
    "name": "ipython",
    "version": 3
   },
   "file_extension": ".py",
   "mimetype": "text/x-python",
   "name": "python",
   "nbconvert_exporter": "python",
   "pygments_lexer": "ipython3",
   "version": "3.13.1"
  }
 },
 "nbformat": 4,
 "nbformat_minor": 5
}
